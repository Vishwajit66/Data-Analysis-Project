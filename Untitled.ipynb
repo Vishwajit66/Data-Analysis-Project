{
 "cells": [
  {
   "cell_type": "code",
   "execution_count": 4,
   "id": "7999c124",
   "metadata": {},
   "outputs": [
    {
     "data": {
      "text/plain": [
       "\"Grade Calculator\\nInput: Prompt the user to enter a student's score.\\nProcess: Use an if-else structure to determine the grade based on the score.\\nGrades are defined as follows:\\nA: 90-100\\nB: 80-89\\nC: 70-79\\nD: 60-69\\nF: 0-59\\nOutput: Display the student's score and corresponding grade.\""
      ]
     },
     "execution_count": 4,
     "metadata": {},
     "output_type": "execute_result"
    }
   ],
   "source": [
    "\"\"\"Grade Calculator\n",
    "Input: Prompt the user to enter a student's score.\n",
    "Process: Use an if-else structure to determine the grade based on the score.\n",
    "Grades are defined as follows:\n",
    "A: 90-100\n",
    "B: 80-89\n",
    "C: 70-79\n",
    "D: 60-69\n",
    "F: 0-59\n",
    "Output: Display the student's score and corresponding grade.\"\"\"\n"
   ]
  },
  {
   "cell_type": "code",
   "execution_count": 86,
   "id": "5258979d",
   "metadata": {},
   "outputs": [
    {
     "name": "stdout",
     "output_type": "stream",
     "text": [
      "Enter the student score:76\n"
     ]
    }
   ],
   "source": [
    "V = int(input(\"Enter the student score:\"))\n"
   ]
  },
  {
   "cell_type": "code",
   "execution_count": 87,
   "id": "bbeff812",
   "metadata": {},
   "outputs": [
    {
     "name": "stdout",
     "output_type": "stream",
     "text": [
      "student grade is D\n"
     ]
    }
   ],
   "source": [
    "if V < 0 :\n",
    "    print (\"give valided score\")\n",
    "    \n",
    "elif V <= 59 :\n",
    "    print(\"student grade is F\")\n",
    "    \n",
    "elif V <=69 :\n",
    "    print(\"student grade is E\")\n",
    "    \n",
    "elif V <=79 :\n",
    "    print(\"student grade is D\")"
   ]
  },
  {
   "cell_type": "code",
   "execution_count": null,
   "id": "97dca02d",
   "metadata": {},
   "outputs": [],
   "source": []
  }
 ],
 "metadata": {
  "kernelspec": {
   "display_name": "Python 3 (ipykernel)",
   "language": "python",
   "name": "python3"
  },
  "language_info": {
   "codemirror_mode": {
    "name": "ipython",
    "version": 3
   },
   "file_extension": ".py",
   "mimetype": "text/x-python",
   "name": "python",
   "nbconvert_exporter": "python",
   "pygments_lexer": "ipython3",
   "version": "3.11.5"
  }
 },
 "nbformat": 4,
 "nbformat_minor": 5
}
